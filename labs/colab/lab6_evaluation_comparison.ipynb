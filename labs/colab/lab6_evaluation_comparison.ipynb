{
  "cells": [
    {
      "cell_type": "markdown",
      "metadata": {
        "id": "66CRj7ikEGQ3"
      },
      "source": [
        "# Lab 6 – Evaluation and Comparison\n",
        "Compare base vs tuned with quick perplexity and side-by-side generations, then save a brief report."
      ],
      "id": "66CRj7ikEGQ3"
    },
    {
      "cell_type": "markdown",
      "metadata": {
        "id": "ywvDNxUkEGQ6"
      },
      "source": [
        "## Step 0. Stable installs"
      ],
      "id": "ywvDNxUkEGQ6"
    },
    {
      "cell_type": "code",
      "execution_count": 1,
      "metadata": {
        "id": "H4Fo9d34EGQ6",
        "outputId": "cfed7528-440e-4d41-d248-606c4c9a812a",
        "colab": {
          "base_uri": "https://localhost:8080/"
        }
      },
      "outputs": [
        {
          "output_type": "stream",
          "name": "stdout",
          "text": [
            "\u001b[2K     \u001b[90m━━━━━━━━━━━━━━━━━━━━━━━━━━━━━━━━━━━━━━━━\u001b[0m \u001b[32m60.9/60.9 kB\u001b[0m \u001b[31m4.3 MB/s\u001b[0m eta \u001b[36m0:00:00\u001b[0m\n",
            "\u001b[2K   \u001b[90m━━━━━━━━━━━━━━━━━━━━━━━━━━━━━━━━━━━━━━━━\u001b[0m \u001b[32m19.2/19.2 MB\u001b[0m \u001b[31m37.5 MB/s\u001b[0m eta \u001b[36m0:00:00\u001b[0m\n",
            "\u001b[2K   \u001b[90m━━━━━━━━━━━━━━━━━━━━━━━━━━━━━━━━━━━━━━━━\u001b[0m \u001b[32m12.7/12.7 MB\u001b[0m \u001b[31m49.5 MB/s\u001b[0m eta \u001b[36m0:00:00\u001b[0m\n",
            "\u001b[2K   \u001b[90m━━━━━━━━━━━━━━━━━━━━━━━━━━━━━━━━━━━━━━━━\u001b[0m \u001b[32m39.9/39.9 MB\u001b[0m \u001b[31m14.5 MB/s\u001b[0m eta \u001b[36m0:00:00\u001b[0m\n",
            "\u001b[2K   \u001b[90m━━━━━━━━━━━━━━━━━━━━━━━━━━━━━━━━━━━━━━━━\u001b[0m \u001b[32m229.9/229.9 kB\u001b[0m \u001b[31m18.2 MB/s\u001b[0m eta \u001b[36m0:00:00\u001b[0m\n",
            "\u001b[2K   \u001b[90m━━━━━━━━━━━━━━━━━━━━━━━━━━━━━━━━━━━━━━━━\u001b[0m \u001b[32m509.2/509.2 kB\u001b[0m \u001b[31m29.7 MB/s\u001b[0m eta \u001b[36m0:00:00\u001b[0m\n",
            "\u001b[2K   \u001b[90m━━━━━━━━━━━━━━━━━━━━━━━━━━━━━━━━━━━━━━━━\u001b[0m \u001b[32m347.8/347.8 kB\u001b[0m \u001b[31m15.8 MB/s\u001b[0m eta \u001b[36m0:00:00\u001b[0m\n",
            "\u001b[?25hIf imports fail, use Runtime → Restart runtime and re-run this cell.\n"
          ]
        }
      ],
      "source": [
        "%pip install -q --force-reinstall numpy==2.0.2 pandas==2.2.2 pyarrow==17.0.0\n",
        "%pip install -q datasets>=3.0.0 transformers>=4.41.0 peft>=0.11.0 accelerate>=0.29.0 sentencepiece>=0.1.99 tqdm>=4.66.0 bitsandbytes\n",
        "print('If imports fail, use Runtime → Restart runtime and re-run this cell.')"
      ],
      "id": "H4Fo9d34EGQ6"
    },
    {
      "cell_type": "markdown",
      "metadata": {
        "id": "9MCcm7KEEGQ8"
      },
      "source": [
        "## Step 1. Auto-detect dataset and adapters"
      ],
      "id": "9MCcm7KEEGQ8"
    },
    {
      "cell_type": "code",
      "execution_count": 2,
      "metadata": {
        "id": "xkYj43dpEGQ8",
        "outputId": "d802dc0c-8f9f-4cde-b147-f8a71ea1995c",
        "colab": {
          "base_uri": "https://localhost:8080/"
        }
      },
      "outputs": [
        {
          "output_type": "stream",
          "name": "stdout",
          "text": [
            "Mounted at /content/drive\n",
            "Datasets found:\n",
            "1 /content/drive/MyDrive/slm-labs/lab3_tokenized/train\n",
            "Using DATA_DIR: /content/drive/MyDrive/slm-labs/lab3_tokenized/train\n",
            "Adapters found:\n",
            "1 /content/drive/MyDrive/slm-labs/lab4_lora_adapters\n",
            "2 /content/drive/MyDrive/slm-labs/lab5_results/best_r16_lr0.0002_ga4\n",
            "Using BEST_DIR: /content/drive/MyDrive/slm-labs/lab4_lora_adapters\n"
          ]
        }
      ],
      "source": [
        "from google.colab import drive\n",
        "from pathlib import Path\n",
        "import os\n",
        "drive.mount('/content/drive')\n",
        "BASE = Path('/content/drive/MyDrive/slm-labs')\n",
        "assert BASE.exists(), f'Missing {BASE}. Create it or change BASE.'\n",
        "\n",
        "DSETS=[]\n",
        "for r,ds,fs in os.walk(BASE):\n",
        "    if 'dataset_info.json' in fs:\n",
        "        DSETS.append(Path(r))\n",
        "print('Datasets found:')\n",
        "for i,p in enumerate(DSETS,1):\n",
        "    print(i,p)\n",
        "DATA_DIR = DSETS[0] if DSETS else None\n",
        "print('Using DATA_DIR:', DATA_DIR)\n",
        "\n",
        "ADAPS=[]\n",
        "for r,ds,fs in os.walk(BASE):\n",
        "    if 'adapter_config.json' in fs:\n",
        "        ADAPS.append(Path(r))\n",
        "print('Adapters found:')\n",
        "for i,p in enumerate(ADAPS,1):\n",
        "    print(i,p)\n",
        "BEST_DIR = ADAPS[0] if ADAPS else None\n",
        "print('Using BEST_DIR:', BEST_DIR)\n",
        "\n",
        "assert DATA_DIR and DATA_DIR.exists()\n",
        "assert BEST_DIR and BEST_DIR.exists()"
      ],
      "id": "xkYj43dpEGQ8"
    },
    {
      "cell_type": "markdown",
      "metadata": {
        "id": "wD6S_-XGEGQ8"
      },
      "source": [
        "## Step 2. Load eval split"
      ],
      "id": "wD6S_-XGEGQ8"
    },
    {
      "cell_type": "code",
      "execution_count": 3,
      "metadata": {
        "id": "RBZDtvxVEGQ9",
        "outputId": "1139b094-cdbd-41dc-82c6-2d1af3e73d1d",
        "colab": {
          "base_uri": "https://localhost:8080/",
          "height": 211
        }
      },
      "outputs": [
        {
          "output_type": "error",
          "ename": "AttributeError",
          "evalue": "'Dataset' object has no attribute 'get'",
          "traceback": [
            "\u001b[0;31m---------------------------------------------------------------------------\u001b[0m",
            "\u001b[0;31mAttributeError\u001b[0m                            Traceback (most recent call last)",
            "\u001b[0;32m/tmp/ipython-input-510257075.py\u001b[0m in \u001b[0;36m<cell line: 0>\u001b[0;34m()\u001b[0m\n\u001b[1;32m      1\u001b[0m \u001b[0;32mfrom\u001b[0m \u001b[0mdatasets\u001b[0m \u001b[0;32mimport\u001b[0m \u001b[0mload_from_disk\u001b[0m\u001b[0;34m\u001b[0m\u001b[0;34m\u001b[0m\u001b[0m\n\u001b[1;32m      2\u001b[0m \u001b[0mDS\u001b[0m \u001b[0;34m=\u001b[0m \u001b[0mload_from_disk\u001b[0m\u001b[0;34m(\u001b[0m\u001b[0mstr\u001b[0m\u001b[0;34m(\u001b[0m\u001b[0mDATA_DIR\u001b[0m\u001b[0;34m)\u001b[0m\u001b[0;34m)\u001b[0m\u001b[0;34m\u001b[0m\u001b[0;34m\u001b[0m\u001b[0m\n\u001b[0;32m----> 3\u001b[0;31m \u001b[0mval\u001b[0m \u001b[0;34m=\u001b[0m \u001b[0mDS\u001b[0m\u001b[0;34m.\u001b[0m\u001b[0mget\u001b[0m\u001b[0;34m(\u001b[0m\u001b[0;34m'validation'\u001b[0m\u001b[0;34m)\u001b[0m \u001b[0;32mor\u001b[0m \u001b[0mDS\u001b[0m\u001b[0;34m.\u001b[0m\u001b[0mget\u001b[0m\u001b[0;34m(\u001b[0m\u001b[0;34m'test'\u001b[0m\u001b[0;34m)\u001b[0m\u001b[0;34m\u001b[0m\u001b[0;34m\u001b[0m\u001b[0m\n\u001b[0m\u001b[1;32m      4\u001b[0m \u001b[0;32mif\u001b[0m \u001b[0mval\u001b[0m \u001b[0;32mis\u001b[0m \u001b[0;32mNone\u001b[0m\u001b[0;34m:\u001b[0m\u001b[0;34m\u001b[0m\u001b[0;34m\u001b[0m\u001b[0m\n\u001b[1;32m      5\u001b[0m     \u001b[0mval\u001b[0m \u001b[0;34m=\u001b[0m \u001b[0mDS\u001b[0m\u001b[0;34m[\u001b[0m\u001b[0;34m'train'\u001b[0m\u001b[0;34m]\u001b[0m\u001b[0;34m.\u001b[0m\u001b[0mselect\u001b[0m\u001b[0;34m(\u001b[0m\u001b[0mrange\u001b[0m\u001b[0;34m(\u001b[0m\u001b[0mmin\u001b[0m\u001b[0;34m(\u001b[0m\u001b[0;36m200\u001b[0m\u001b[0;34m,\u001b[0m \u001b[0mlen\u001b[0m\u001b[0;34m(\u001b[0m\u001b[0mDS\u001b[0m\u001b[0;34m[\u001b[0m\u001b[0;34m'train'\u001b[0m\u001b[0;34m]\u001b[0m\u001b[0;34m)\u001b[0m\u001b[0;34m)\u001b[0m\u001b[0;34m)\u001b[0m\u001b[0;34m)\u001b[0m\u001b[0;34m\u001b[0m\u001b[0;34m\u001b[0m\u001b[0m\n",
            "\u001b[0;31mAttributeError\u001b[0m: 'Dataset' object has no attribute 'get'"
          ]
        }
      ],
      "source": [
        "from datasets import load_from_disk\n",
        "\n",
        "DS = load_from_disk(str(DATA_DIR))\n",
        "\n",
        "if \"validation\" in DS:\n",
        "    val = DS[\"validation\"]\n",
        "elif \"test\" in DS:\n",
        "    val = DS[\"test\"]\n",
        "else:\n",
        "    val = DS[\"train\"].select(range(min(200, len(DS[\"train\"]))))\n",
        "\n",
        "print(\"Eval samples:\", len(val))\n"
      ],
      "id": "RBZDtvxVEGQ9"
    },
    {
      "cell_type": "markdown",
      "metadata": {
        "id": "aXXhm1v7EGQ9"
      },
      "source": [
        "## Step 3. Load base and tuned models"
      ],
      "id": "aXXhm1v7EGQ9"
    },
    {
      "cell_type": "code",
      "execution_count": null,
      "metadata": {
        "id": "7q2PR01REGQ9"
      },
      "outputs": [],
      "source": [
        "import torch\n",
        "from transformers import AutoTokenizer, AutoModelForCausalLM, BitsAndBytesConfig\n",
        "from peft import PeftModel\n",
        "\n",
        "BASE_MODEL='HuggingFaceH4/zephyr-7b-beta'\n",
        "kw={}\n",
        "if torch.cuda.is_available():\n",
        "    try:\n",
        "        kw=dict(device_map='auto', quantization_config=BitsAndBytesConfig(load_in_4bit=True, bnb_4bit_quant_type='nf4', bnb_4bit_compute_dtype=torch.float16, bnb_4bit_use_double_quant=True), torch_dtype=torch.float16)\n",
        "    except Exception:\n",
        "        kw=dict(torch_dtype=torch.float16)\n",
        "else:\n",
        "    kw=dict(torch_dtype=torch.float32)\n",
        "Tok=AutoTokenizer.from_pretrained(BASE_MODEL, use_fast=True)\n",
        "Base=AutoModelForCausalLM.from_pretrained(BASE_MODEL, **kw)\n",
        "if Tok.pad_token is None: Tok.pad_token=Tok.eos_token\n",
        "Tuned=PeftModel.from_pretrained(Base, str(BEST_DIR))\n",
        "Tuned.eval()"
      ],
      "id": "7q2PR01REGQ9"
    },
    {
      "cell_type": "markdown",
      "metadata": {
        "id": "PH0Jq4s3EGQ-"
      },
      "source": [
        "## Step 4. Quick perplexity"
      ],
      "id": "PH0Jq4s3EGQ-"
    },
    {
      "cell_type": "code",
      "execution_count": null,
      "metadata": {
        "id": "7jPCQbaZEGQ-"
      },
      "outputs": [],
      "source": [
        "import math\n",
        "from torch.utils.data import DataLoader\n",
        "from transformers import default_data_collator\n",
        "\n",
        "sub = val.select(range(min(512, len(val))))\n",
        "def ppl(model, tok, ds):\n",
        "    model.eval(); L = DataLoader(ds, batch_size=2, shuffle=False, collate_fn=default_data_collator)\n",
        "    tot=0; toks=0\n",
        "    with torch.no_grad():\n",
        "        for b in L:\n",
        "            b={k:v.to(model.device) for k,v in b.items() if hasattr(v,'to')}\n",
        "            out=model(**b, labels=b.get('input_ids'))\n",
        "            loss=out.loss\n",
        "            tot+=loss.item()*b['input_ids'].numel(); toks+=b['input_ids'].numel()\n",
        "    return math.exp(tot/max(1,toks))\n",
        "\n",
        "base_ppl=ppl(Base,Tok,sub); tuned_ppl=ppl(Tuned,Tok,sub)\n",
        "print('Base perplexity:',base_ppl,'Tuned perplexity:',tuned_ppl)"
      ],
      "id": "7jPCQbaZEGQ-"
    },
    {
      "cell_type": "markdown",
      "metadata": {
        "id": "JIkxAtiBEGQ-"
      },
      "source": [
        "## Step 5. Side-by-side generations"
      ],
      "id": "JIkxAtiBEGQ-"
    },
    {
      "cell_type": "code",
      "execution_count": null,
      "metadata": {
        "id": "lM1z8-WrEGQ_"
      },
      "outputs": [],
      "source": [
        "prompts=[\n",
        " 'Draft a concise cardiology discharge summary for a patient treated for acute coronary syndrome.',\n",
        " 'Explain the difference between type 1 and type 2 diabetes in plain language for a patient handout.',\n",
        " 'Summarize key risk factors for stroke in three bullet points.'\n",
        "]\n",
        "CFG=dict(max_new_tokens=200, do_sample=True, temperature=0.7, top_p=0.9, pad_token_id=Tok.eos_token_id)\n",
        "def gen(m,t,p):\n",
        "    x=t(p, return_tensors='pt').to(m.device)\n",
        "    with torch.no_grad():\n",
        "        y=m.generate(**x,**CFG)\n",
        "    return t.decode(y[0], skip_special_tokens=True)\n",
        "\n",
        "for p in prompts:\n",
        "    print('\\nPrompt:',p)\n",
        "    print('\\nBase:\\n',gen(Base,Tok,p))\n",
        "    print('\\nTuned:\\n',gen(Tuned,Tok,p))"
      ],
      "id": "lM1z8-WrEGQ_"
    },
    {
      "cell_type": "markdown",
      "metadata": {
        "id": "iIgvCO3sEGQ_"
      },
      "source": [
        "## Step 6. Save a brief report to Drive"
      ],
      "id": "iIgvCO3sEGQ_"
    },
    {
      "cell_type": "code",
      "execution_count": null,
      "metadata": {
        "id": "xrEJy1XpEGQ_"
      },
      "outputs": [],
      "source": [
        "from pathlib import Path\n",
        "R=Path('/content/drive/MyDrive/slm-labs/lab6_report'); R.mkdir(parents=True, exist_ok=True)\n",
        "with open(R/'summary.txt','w') as f:\n",
        "    f.write('Lab 6 – Evaluation and Comparison\\n')\n",
        "    f.write(f'Base perplexity: {base_ppl:.3f}\\nTuned perplexity: {tuned_ppl:.3f}\\n\\n')\n",
        "    for i,p in enumerate(prompts,1):\n",
        "        f.write(f'Prompt {i}: {p}\\n')\n",
        "        f.write('Base\\n-----\\n'); f.write(gen(Base, Tok, p)+'\\n\\n')\n",
        "        f.write('Tuned\\n-----\\n'); f.write(gen(Tuned, Tok, p)+'\\n\\n')\n",
        "print('Saved report to /content/drive/MyDrive/slm-labs/lab6_report/summary.txt')"
      ],
      "id": "xrEJy1XpEGQ_"
    }
  ],
  "metadata": {
    "kernelspec": {
      "display_name": "Python 3",
      "name": "python3"
    },
    "language_info": {
      "name": "python",
      "version": "3.10"
    },
    "colab": {
      "provenance": [],
      "gpuType": "T4"
    },
    "accelerator": "GPU"
  },
  "nbformat": 4,
  "nbformat_minor": 5
}